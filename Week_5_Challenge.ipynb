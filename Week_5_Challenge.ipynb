{
 "cells": [
  {
   "cell_type": "markdown",
   "id": "9cce5515",
   "metadata": {},
   "source": [
    "Assignment 1: Design Your Own Class! 🏗️\n",
    "\n",
    "Create a class representing anything you like (a Smartphone, Book, or even a Superhero!).\n",
    "\n",
    "Add attributes and methods to bring the class to life!\n",
    "\n",
    "Use constructors to initialize each object with unique values.\n",
    "\n",
    "Add an inheritance layer to explore polymorphism or encapsulation."
   ]
  },
  {
   "cell_type": "code",
   "execution_count": 1,
   "id": "3c95448e",
   "metadata": {},
   "outputs": [
    {
     "name": "stdout",
     "output_type": "stream",
     "text": [
      "User: Mr Bobby\n",
      "Weak Password! Improve it by following these rules:\n",
      "   - Add at least one UPPERCASE letter\n",
      "   - Add at least one number\n",
      "None\n"
     ]
    }
   ],
   "source": [
    "class User:\n",
    "    def __init__(self, username):\n",
    "        self.username = username\n",
    "\n",
    "    def display_user(self):\n",
    "        print(f\"User: {self.username}\")\n",
    "\n",
    "\n",
    "class SecurePassword(User):  # Inherits from User\n",
    "    def __init__(self):\n",
    "        # Prompt user for username\n",
    "        username = input(\"Enter Username: \")\n",
    "        super().__init__(username)\n",
    "\n",
    "        # Prompt user for password\n",
    "        self.__ogpass = input(\"Enter Password: \") # encapsulated attribute\n",
    "\n",
    "    def password_check(self):\n",
    "        password = self.__ogpass\n",
    "\n",
    "        # Rules\n",
    "        has_upper = any(c.isupper() for c in password)\n",
    "        has_lower = any(c.islower() for c in password)\n",
    "        has_digit = any(c.isdigit() for c in password)\n",
    "        has_special = any(c in \"!@#$%^&*()-_=+[{]}|;:',<.>/?`~\" for c in password)\n",
    "        is_long = len(password) >= 8\n",
    "\n",
    "        # Evaluate strength\n",
    "        if all([has_upper, has_lower, has_digit, has_special, is_long]):\n",
    "            return \"Strong Password! Secure.\"\n",
    "        else:\n",
    "            print(\"Weak Password! Improve it by following these rules:\")\n",
    "            if not has_upper:\n",
    "                print(\"   - Add at least one UPPERCASE letter\")\n",
    "            if not has_lower:\n",
    "                print(\"   - Add at least one lowercase letter\")\n",
    "            if not has_digit:\n",
    "                print(\"   - Add at least one number\")\n",
    "            if not has_special:\n",
    "                print(\"   - Add at least one special character (!@#$%^&*)\")\n",
    "            if not is_long:\n",
    "                print(\"   - Make it at least 8 characters long\")\n",
    "\n",
    "\n",
    "# Run program\n",
    "stash = SecurePassword()\n",
    "stash.display_user()\n",
    "print(stash.password_check())"
   ]
  },
  {
   "cell_type": "markdown",
   "id": "0dbd310c",
   "metadata": {},
   "source": [
    "Activity 2: Polymorphism Challenge! 🎭\n",
    "\n",
    "Create a program that includes animals or vehicles with the same action (like move()). However, make each class define move() differently (for example, Car.move() prints \"Driving\" 🚗, while Plane.move() prints \"Flying\" ✈️)."
   ]
  },
  {
   "cell_type": "code",
   "execution_count": 2,
   "id": "01bdab16",
   "metadata": {},
   "outputs": [
    {
     "name": "stdout",
     "output_type": "stream",
     "text": [
      "M-series Chip\n",
      "Primarily Intel chip\n"
     ]
    }
   ],
   "source": [
    "class Mac:\n",
    "    def electronics(self):\n",
    "        return f'M-series Chip'\n",
    "    \n",
    "class Windows:\n",
    "    def electronics(self):\n",
    "        return f'Primarily Intel chip'\n",
    "    \n",
    "for comp in [Mac(), Windows()]:\n",
    "    print(comp.electronics())  "
   ]
  }
 ],
 "metadata": {
  "kernelspec": {
   "display_name": "Python 3",
   "language": "python",
   "name": "python3"
  },
  "language_info": {
   "codemirror_mode": {
    "name": "ipython",
    "version": 3
   },
   "file_extension": ".py",
   "mimetype": "text/x-python",
   "name": "python",
   "nbconvert_exporter": "python",
   "pygments_lexer": "ipython3",
   "version": "3.13.5"
  }
 },
 "nbformat": 4,
 "nbformat_minor": 5
}
