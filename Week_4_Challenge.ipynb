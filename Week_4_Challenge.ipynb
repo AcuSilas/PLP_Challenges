{
 "cells": [
  {
   "cell_type": "code",
   "execution_count": 2,
   "id": "a0d993a8",
   "metadata": {},
   "outputs": [
    {
     "name": "stdout",
     "output_type": "stream",
     "text": [
      "✅ input.txt created successfully with sample content!\n"
     ]
    }
   ],
   "source": [
    "# Step 1: Create input.txt and write some content to it\n",
    "\n",
    "def create_input_file():\n",
    "    try:\n",
    "        with open(\"input.txt\", \"w\") as file:\n",
    "            file.write(\"Hello, this is the original text file.\\n\")\n",
    "            file.write(\"We are learning Python file handling.\\n\")\n",
    "            file.write(\"File handling is very useful for real projects.\\n\")\n",
    "            file.write(\"It is vital to gain a deep understanding of all functionalities.\\n\")\n",
    "            file.write(\"In and around file handling.\\n\")\n",
    "        print(\"✅ input.txt created successfully with sample content!\")\n",
    "    except Exception as e:\n",
    "        print(f\"⚠️ Error while creating file: {e}\")\n",
    "\n",
    "# Run the function\n",
    "create_input_file()\n"
   ]
  },
  {
   "cell_type": "code",
   "execution_count": 3,
   "id": "3d456077",
   "metadata": {},
   "outputs": [
    {
     "name": "stdout",
     "output_type": "stream",
     "text": [
      "✅ File has been read, modified, and written to 'output.txt'.\n"
     ]
    }
   ],
   "source": [
    "# Step 2: Read the content from input.txt, modify it, and write to output.txt\n",
    "with open(\"input.txt\", \"r\") as infile:\n",
    "    content = infile.read()\n",
    "\n",
    "# Modify the content to uppercase\n",
    "modified_content = content.upper()\n",
    "\n",
    "# Write modified content to a new file\n",
    "with open(\"output.txt\", \"w\") as outfile:\n",
    "    outfile.write(modified_content)\n",
    "\n",
    "print(\"✅ File has been read, modified, and written to 'output.txt'.\")\n"
   ]
  },
  {
   "cell_type": "code",
   "execution_count": 5,
   "id": "da3a5bc8",
   "metadata": {},
   "outputs": [
    {
     "name": "stdout",
     "output_type": "stream",
     "text": [
      "\n",
      "📄 File Content:\n",
      "\n",
      "HELLO, THIS IS THE ORIGINAL TEXT FILE.\n",
      "WE ARE LEARNING PYTHON FILE HANDLING.\n",
      "FILE HANDLING IS VERY USEFUL FOR REAL PROJECTS.\n",
      "IT IS VITAL TO GAIN A DEEP UNDERSTANDING OF ALL FUNCTIONALITIES.\n",
      "IN AND AROUND FILE HANDLING.\n",
      "\n"
     ]
    }
   ],
   "source": [
    "def safe_file_reader():\n",
    "    filename = input(\"Enter the filename to read: \")\n",
    "\n",
    "    try:\n",
    "        with open(filename, \"r\") as f:\n",
    "            content = f.read()\n",
    "            print(\"\\n📄 File Content:\\n\")\n",
    "            print(content)\n",
    "\n",
    "    except FileNotFoundError:\n",
    "        print(\"❌ Error: The file does not exist.\")\n",
    "    except PermissionError:\n",
    "        print(\"❌ Error: You don’t have permission to read this file.\")\n",
    "    except Exception as e:\n",
    "        print(f\"⚠️ An unexpected error occurred: {e}\")\n",
    "\n",
    "\n",
    "# Example usage\n",
    "safe_file_reader()\n"
   ]
  }
 ],
 "metadata": {
  "kernelspec": {
   "display_name": "Python 3",
   "language": "python",
   "name": "python3"
  },
  "language_info": {
   "codemirror_mode": {
    "name": "ipython",
    "version": 3
   },
   "file_extension": ".py",
   "mimetype": "text/x-python",
   "name": "python",
   "nbconvert_exporter": "python",
   "pygments_lexer": "ipython3",
   "version": "3.13.5"
  }
 },
 "nbformat": 4,
 "nbformat_minor": 5
}
